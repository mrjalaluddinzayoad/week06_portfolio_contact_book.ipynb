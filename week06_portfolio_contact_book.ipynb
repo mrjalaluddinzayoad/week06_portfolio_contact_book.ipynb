{
  "nbformat": 4,
  "nbformat_minor": 0,
  "metadata": {
    "colab": {
      "provenance": [],
      "authorship_tag": "ABX9TyOyM4yvTOSZ1IEMfHfKn2qp",
      "include_colab_link": true
    },
    "kernelspec": {
      "name": "python3",
      "display_name": "Python 3"
    },
    "language_info": {
      "name": "python"
    }
  },
  "cells": [
    {
      "cell_type": "markdown",
      "metadata": {
        "id": "view-in-github",
        "colab_type": "text"
      },
      "source": [
        "<a href=\"https://colab.research.google.com/github/mrjalaluddinzayoad/week06_portfolio_contact_book.ipynb/blob/main/week06_portfolio_contact_book.ipynb\" target=\"_parent\"><img src=\"https://colab.research.google.com/assets/colab-badge.svg\" alt=\"Open In Colab\"/></a>"
      ]
    },
    {
      "cell_type": "code",
      "execution_count": null,
      "metadata": {
        "colab": {
          "base_uri": "https://localhost:8080/",
          "height": 106
        },
        "id": "tSf8B4RQbe1G",
        "outputId": "c8f892a8-18ec-4df9-d5dd-b7f10b00c8cb"
      },
      "outputs": [
        {
          "output_type": "error",
          "ename": "IndentationError",
          "evalue": "unexpected indent (ipython-input-581395725.py, line 20)",
          "traceback": [
            "\u001b[0;36m  File \u001b[0;32m\"/tmp/ipython-input-581395725.py\"\u001b[0;36m, line \u001b[0;32m20\u001b[0m\n\u001b[0;31m    print(contacts)\u001b[0m\n\u001b[0m    ^\u001b[0m\n\u001b[0;31mIndentationError\u001b[0m\u001b[0;31m:\u001b[0m unexpected indent\n"
          ]
        }
      ],
      "source": [
        "contacts = {\n",
        "      \"contact_1\": {\n",
        "              \"name\": \"John Doe\",\n",
        "                      \"phone\": \"555-1234\",\n",
        "                              \"email\": \"johndoe@example.com\"\n",
        "                                  },\n",
        "                                      \"contact_2\": {\n",
        "                                              \"name\": \"Jane Smith\",\n",
        "                                                      \"phone\": \"555-5678\",\n",
        "                                                              \"email\": \"janesmith@example.com\"\n",
        "                                                                  },\n",
        "                                                                      \"contact_3\": {\n",
        "                                                                              \"name\": \"Alice Brown\",\n",
        "                                                                                      \"phone\": \"555-8765\",\n",
        "                                                                                              \"email\": \"alicebrown@example.com\"\n",
        "                                                                                                  }\n",
        "                                                                                                  }\n",
        "\n",
        "                                                                                                  # Print the contacts dictionary\n",
        "                                                                                                  print(contacts)\n",
        "}"
      ]
    },
    {
      "cell_type": "code",
      "source": [
        "# Create a dictionary with three contacts\n",
        "contacts = {\n",
        "    \"contact_1\": {\n",
        "            \"name\": \"John Doe\",\n",
        "                    \"phone\": \"555-1234\",\n",
        "                            \"email\": \"johndoe@example.com\"\n",
        "                                },\n",
        "                                    \"contact_2\": {\n",
        "                                            \"name\": \"Jane Smith\",\n",
        "                                                    \"phone\": \"555-5678\",\n",
        "                                                            \"email\": \"janesmith@example.com\"\n",
        "                                                                },\n",
        "                                                                    \"contact_3\": {\n",
        "                                                                            \"name\": \"Alice Brown\",\n",
        "                                                                                    \"phone\": \"555-8765\",\n",
        "                                                                                            \"email\": \"alicebrown@example.com\"\n",
        "                                                                                                }\n",
        "                                                                                                }\n",
        "\n",
        "                                                                                                # Print the contacts dictionary\n",
        "                                                                                                print(contacts)\n"
      ],
      "metadata": {
        "colab": {
          "base_uri": "https://localhost:8080/",
          "height": 106
        },
        "id": "VdRLlaG0eX40",
        "outputId": "0b12a4bc-bee6-4707-d5e1-a9aba22d7912"
      },
      "execution_count": null,
      "outputs": [
        {
          "output_type": "error",
          "ename": "IndentationError",
          "evalue": "unexpected indent (ipython-input-560269826.py, line 21)",
          "traceback": [
            "\u001b[0;36m  File \u001b[0;32m\"/tmp/ipython-input-560269826.py\"\u001b[0;36m, line \u001b[0;32m21\u001b[0m\n\u001b[0;31m    print(contacts)\u001b[0m\n\u001b[0m    ^\u001b[0m\n\u001b[0;31mIndentationError\u001b[0m\u001b[0;31m:\u001b[0m unexpected indent\n"
          ]
        }
      ]
    },
    {
      "cell_type": "code",
      "source": [
        "\n",
        "\n",
        "\n",
        "\n",
        "\n",
        "\n",
        "\n",
        "\n",
        "\n",
        "\n",
        "\n",
        "\n",
        "\n"
      ],
      "metadata": {
        "id": "rjJnyez8em4Y"
      },
      "execution_count": null,
      "outputs": []
    },
    {
      "cell_type": "code",
      "source": [
        "# Create a dictionary with three contacts\n",
        "contacts = {\n",
        "    \"contact_1\": {\n",
        "            \"name\": \"John Doe\",\n",
        "                    \"phone\": \"555-1234\",\n",
        "                            \"email\": \"johndoe@example.com\"\n",
        "                                },\n",
        "                                    \"contact_2\": {\n",
        "                                            \"name\": \"Jane Smith\",\n",
        "                                                    \"phone\": \"555-5678\",\n",
        "                                                            \"email\": \"janesmith@example.com\"\n",
        "                                                                },\n",
        "                                                                    \"contact_3\": {\n",
        "                                                                            \"name\": \"Alice Brown\",\n",
        "                                                                                    \"phone\": \"555-8765\",\n",
        "\"email\": \"alicebrown@example.com\"\n",
        "                                                                                              }\n",
        "                                                                                               }\n",
        "\n",
        "                                                                                                # Print the contacts dictionary\n",
        "                                                                                                print(contacts)\n"
      ],
      "metadata": {
        "id": "gJcGgAujepUK"
      },
      "execution_count": null,
      "outputs": []
    },
    {
      "cell_type": "code",
      "source": [
        "# Create a dictionary with three contacts\n",
        "contacts = {\n",
        "    \"contact_1\": {\n",
        "            \"name\": \"John Doe\",\n",
        "                    \"phone\": \"555-1234\",\n",
        "                            \"email\": \"johndoe@example.com\"\n",
        "                                },\n",
        "                                    \"contact_2\": {\n",
        "                                            \"name\": \"Jane Smith\",\n",
        "                                                    \"phone\": \"555-5678\",\n",
        "                                                            \"email\": \"janesmith@example.com\"\n",
        "                                                                },\n",
        "                                                                    \"contact_3\": {\n",
        "                                                                            \"name\": \"Alice Brown\",\n",
        "                                                                                    \"phone\": \"555-8765\",\n",
        "                                                                                            \"email\": \"alicebrown@example.com\"\n",
        "                                                                                                }\n",
        "                                                                                                }\n",
        "\n",
        "                                                                                                # Print the contacts dictionary\n",
        "                                                                                                print(contacts)\n"
      ],
      "metadata": {
        "colab": {
          "base_uri": "https://localhost:8080/",
          "height": 106
        },
        "id": "HDW-w5Mwe7qU",
        "outputId": "037cab92-6ec4-43c1-f168-e0b5a99e37c0"
      },
      "execution_count": null,
      "outputs": [
        {
          "output_type": "error",
          "ename": "IndentationError",
          "evalue": "unexpected indent (ipython-input-560269826.py, line 21)",
          "traceback": [
            "\u001b[0;36m  File \u001b[0;32m\"/tmp/ipython-input-560269826.py\"\u001b[0;36m, line \u001b[0;32m21\u001b[0m\n\u001b[0;31m    print(contacts)\u001b[0m\n\u001b[0m    ^\u001b[0m\n\u001b[0;31mIndentationError\u001b[0m\u001b[0;31m:\u001b[0m unexpected indent\n"
          ]
        }
      ]
    },
    {
      "cell_type": "code",
      "source": [
        "# Create a dictionary with three contacts\n",
        "contacts = {\n",
        "    \"contact_1\": {\n",
        "            \"name\": \"John Doe\",\n",
        "                    \"phone\": \"555-1234\",\n",
        "                            \"email\": \"johndoe@example.com\"\n",
        "                                },\n",
        "                                    \"contact_2\": {\n",
        "                                            \"name\": \"Jane Smith\",\n",
        "                                                    \"phone\": \"555-5678\",\n",
        "                                                            \"email\": \"janesmith@example.com\"\n",
        "                                                                },\n",
        "                                                                    \"contact_3\": {\n",
        "                                                                            \"name\": \"Alice Johnson\",\n",
        "                                                                                    \"phone\": \"555-9012\",\n",
        "                                                                                            \"email\": \"alicejohnson@example.com\"\n",
        "                                                                                                }\n",
        "                                                                                                }\n",
        "\n",
        "                                                                                                print(contacts)\n"
      ],
      "metadata": {
        "id": "va1-YMXGh3n3"
      },
      "execution_count": null,
      "outputs": []
    },
    {
      "cell_type": "code",
      "source": [
        "# Create a dictionary with three contacts\n",
        "contacts = {\n",
        "    \"contact_1\": {\n",
        "        \"name\": \"John Doe\",\n",
        "        \"phone\": \"555-1234\",\n",
        "        \"email\": \"johndoe@example.com\"\n",
        "    },\n",
        "    \"contact_2\": {\n",
        "        \"name\": \"Jane Smith\",\n",
        "        \"phone\": \"555-5678\",\n",
        "        \"email\": \"janesmith@example.com\"\n",
        "    },\n",
        "    \"contact_3\": {\n",
        "        \"name\": \"Alice Brown\",\n",
        "        \"phone\": \"555-8765\",\n",
        "        \"email\": \"alicebrown@example.com\"\n",
        "    }\n",
        "}\n",
        "\n",
        "# Print the contacts dictionary\n",
        "print(contacts)"
      ],
      "metadata": {
        "colab": {
          "base_uri": "https://localhost:8080/"
        },
        "id": "-Rz5vfuOfWNg",
        "outputId": "33a531ba-9835-49e0-8f1c-c3aaba247191"
      },
      "execution_count": null,
      "outputs": [
        {
          "output_type": "stream",
          "name": "stdout",
          "text": [
            "{'contact_1': {'name': 'John Doe', 'phone': '555-1234', 'email': 'johndoe@example.com'}, 'contact_2': {'name': 'Jane Smith', 'phone': '555-5678', 'email': 'janesmith@example.com'}, 'contact_3': {'name': 'Alice Brown', 'phone': '555-8765', 'email': 'alicebrown@example.com'}}\n"
          ]
        }
      ]
    },
    {
      "cell_type": "code",
      "source": [
        "# Existing contacts dictionary\n",
        "contacts = {\n",
        "    \"contact_1\": {\n",
        "        \"name\": \"John Doe\",\n",
        "        \"phone\": \"555-1234\",\n",
        "        \"email\": \"johndoe@example.com\"\n",
        "    },\n",
        "    \"contact_2\": {\n",
        "        \"name\": \"Jane Smith\",\n",
        "        \"phone\": \"555-5678\",\n",
        "        \"email\": \"janesmith@example.com\"\n",
        "    },\n",
        "    \"contact_3\": {\n",
        "        \"name\": \"Alice Brown\",\n",
        "        \"phone\": \"555-8765\",\n",
        "        \"email\": \"alicebrown@example.com\"\n",
        "    }\n",
        "}\n",
        "\n",
        "# Function to update phone number of a contact\n",
        "def update_phone(contact_name, new_phone):\n",
        "    # Check if the contact exists\n",
        "    for contact in contacts.values():\n",
        "        if contact[\"name\"] == contact_name:\n",
        "            contact[\"phone\"] = new_phone\n",
        "            print(f\"Phone number for {contact_name} has been updated to {new_phone}.\")\n",
        "            return\n",
        "    print(f\"Contact {contact_name} not found.\")\n",
        "\n",
        "# Example usage: Updating John's phone number\n",
        "update_phone(\"John Doe\", \"555-9999\")\n",
        "\n",
        "# Print the updated contacts dictionary\n",
        "print(contacts)"
      ],
      "metadata": {
        "colab": {
          "base_uri": "https://localhost:8080/"
        },
        "id": "o_76KuXpif4I",
        "outputId": "53bfa0bd-d297-4575-a3d8-1c3e9c6e6fa0"
      },
      "execution_count": null,
      "outputs": [
        {
          "output_type": "stream",
          "name": "stdout",
          "text": [
            "Phone number for John Doe has been updated to 555-9999.\n",
            "{'contact_1': {'name': 'John Doe', 'phone': '555-9999', 'email': 'johndoe@example.com'}, 'contact_2': {'name': 'Jane Smith', 'phone': '555-5678', 'email': 'janesmith@example.com'}, 'contact_3': {'name': 'Alice Brown', 'phone': '555-8765', 'email': 'alicebrown@example.com'}}\n"
          ]
        }
      ]
    },
    {
      "cell_type": "code",
      "source": [
        "# Existing contacts dictionary\n",
        "contacts = {\n",
        "    \"contact_1\": {\n",
        "            \"name\": \"John Doe\",\n",
        "                    \"phone\": \"555-1234\",\n",
        "                            \"email\": \"johndoe@example.com\"\n",
        "                                },\n",
        "                                    \"contact_2\": {\n",
        "                                            \"name\": \"Jane Smith\",\n",
        "                                                    \"phone\": \"555-5678\",\n",
        "                                                            \"email\": \"janesmith@example.com\"\n",
        "                                                                },\n",
        "                                                                    \"contact_3\": {\n",
        "                                                                            \"name\": \"Alice Brown\",\n",
        "                                                                                    \"phone\": \"555-8765\",\n",
        "                                                                                            \"email\": \"alicebrown@example.com\"\n",
        "                                                                                                }\n",
        "                                                                                                }\n",
        "\n",
        "                                                                                                # Function to print all contacts in a neat format\n",
        "def print_contacts(contacts):\n",
        "    print(\"Contacts List:\")\n",
        "    print(\"-\" * 40)\n",
        "    for contact in contacts.values():\n",
        "        print(f\"Name   : {contact['name']}\")\n",
        "        print(f\"Phone  : {contact['phone']}\")\n",
        "        print(f\"Email  : {contact['email']}\")\n",
        "        print(\"-\" * 40)\n",
        "\n",
        "# Call the function to print contacts\n",
        "print_contacts(contacts)"
      ],
      "metadata": {
        "colab": {
          "base_uri": "https://localhost:8080/"
        },
        "id": "EFOvXppqi7Mu",
        "outputId": "d92034ff-cee5-4b8f-f431-940401d2f901"
      },
      "execution_count": null,
      "outputs": [
        {
          "output_type": "stream",
          "name": "stdout",
          "text": [
            "Contacts List:\n",
            "----------------------------------------\n",
            "Name   : John Doe\n",
            "Phone  : 555-1234\n",
            "Email  : johndoe@example.com\n",
            "----------------------------------------\n",
            "Name   : Jane Smith\n",
            "Phone  : 555-5678\n",
            "Email  : janesmith@example.com\n",
            "----------------------------------------\n",
            "Name   : Alice Brown\n",
            "Phone  : 555-8765\n",
            "Email  : alicebrown@example.com\n",
            "----------------------------------------\n"
          ]
        }
      ]
    },
    {
      "cell_type": "code",
      "source": [
        "from collections import defaultdict\n",
        "import json\n",
        "\n",
        "# Example flat contact list\n",
        "contacts = [\n",
        "    {\"name\": \"Alice Johnson\", \"email\": \"alice@example.com\", \"phone\": \"123-456-7890\", \"company\": \"TechCorp\", \"department\": \"IT\"},\n",
        "    {\"name\": \"Bob Smith\", \"email\": \"bob@example.com\", \"phone\": \"321-654-0987\", \"company\": \"TechCorp\", \"department\": \"HR\"},\n",
        "    {\"name\": \"Charlie Davis\", \"email\": \"charlie@example.com\", \"phone\": \"555-444-3333\", \"company\": \"Innovate Solutions\"}\n",
        "]"
      ],
      "metadata": {
        "id": "aMM0UmeYjUTE"
      },
      "execution_count": null,
      "outputs": []
    },
    {
      "cell_type": "code",
      "source": [
        "from collections import defaultdict\n",
        "import json\n",
        "\n",
        "# Example flat contact list\n",
        "contacts = [\n",
        "    {\"name\": \"Alice Johnson\", \"email\": \"alice@example.com\", \"phone\": \"123-456-7890\", \"company\": \"TechCorp\", \"department\": \"IT\"},\n",
        "    {\"name\": \"Bob Smith\", \"email\": \"bob@example.com\", \"phone\": \"321-654-0987\", \"company\": \"TechCorp\", \"department\": \"HR\"},\n",
        "    {\"name\": \"Charlie Davis\", \"email\": \"charlie@example.com\", \"phone\": \"555-444-3333\", \"company\": \"Innovate Solutions\"}\n",
        "]"
      ],
      "metadata": {
        "id": "hw8XmeCIkHyi"
      },
      "execution_count": null,
      "outputs": []
    },
    {
      "cell_type": "code",
      "source": [
        "{\n",
        "    \"TechCorp\": {\n",
        "        \"IT\": [\n",
        "            {\n",
        "                \"name\": \"Alice Johnson\",\n",
        "                \"email\": \"alice@example.com\",\n",
        "                \"phone\": \"123-456-7890\"\n",
        "            },\n",
        "            {\n",
        "                \"name\": \"Dana Lee\",\n",
        "                \"email\": \"dana@example.com\",\n",
        "                \"phone\": \"111-222-3333\"\n",
        "            }\n",
        "        ],\n",
        "        \"HR\": [\n",
        "            {\n",
        "                \"name\": \"Bob Smith\",\n",
        "                \"email\": \"bob@example.com\",\n",
        "                \"phone\": \"321-654-0987\"\n",
        "            }\n",
        "        ]\n",
        "    },\n",
        "    \"BizGroup\": {\n",
        "        \"Sales\": [\n",
        "            {\n",
        "                \"name\": \"Charlie Davis\",\n",
        "                \"email\": \"charlie@example.com\",\n",
        "                \"phone\": \"555-444-3333\"\n",
        "            }\n",
        "        ]\n",
        "    }\n",
        "}"
      ],
      "metadata": {
        "colab": {
          "base_uri": "https://localhost:8080/"
        },
        "id": "liDvrQBWkU7B",
        "outputId": "269c8907-159f-4521-a6f0-35f586f7ee3e"
      },
      "execution_count": null,
      "outputs": [
        {
          "output_type": "execute_result",
          "data": {
            "text/plain": [
              "{'TechCorp': {'IT': [{'name': 'Alice Johnson',\n",
              "    'email': 'alice@example.com',\n",
              "    'phone': '123-456-7890'},\n",
              "   {'name': 'Dana Lee', 'email': 'dana@example.com', 'phone': '111-222-3333'}],\n",
              "  'HR': [{'name': 'Bob Smith',\n",
              "    'email': 'bob@example.com',\n",
              "    'phone': '321-654-0987'}]},\n",
              " 'BizGroup': {'Sales': [{'name': 'Charlie Davis',\n",
              "    'email': 'charlie@example.com',\n",
              "    'phone': '555-444-3333'}]}}"
            ]
          },
          "metadata": {},
          "execution_count": 21
        }
      ]
    },
    {
      "cell_type": "code",
      "source": [
        "\"\"\"\n",
        "==================================================\n",
        "Name                 Email                     Phone           Company    Dept\n",
        "==================================================\n",
        "Alice Johnson        alice@example.com         123-456-7890    TechCorp   IT\n",
        "Bob Smith            bob@example.com           321-654-0987    TechCorp   HR\n",
        "Charlie Davis        charlie@example.com       555-444-3333    BizGroup   Sales\n",
        "Dana Lee             dana@example.com          111-222-3333    TechCorp   IT\n",
        "==================================================\n",
        "\"\"\""
      ],
      "metadata": {
        "colab": {
          "base_uri": "https://localhost:8080/",
          "height": 70
        },
        "id": "SRukVIHfkrgK",
        "outputId": "ab487539-7eca-4693-a6ca-292a6d5db893"
      },
      "execution_count": null,
      "outputs": [
        {
          "output_type": "execute_result",
          "data": {
            "text/plain": [
              "'\\n==================================================\\nName                 Email                     Phone           Company    Dept\\n==================================================\\nAlice Johnson        alice@example.com         123-456-7890    TechCorp   IT\\nBob Smith            bob@example.com           321-654-0987    TechCorp   HR\\nCharlie Davis        charlie@example.com       555-444-3333    BizGroup   Sales\\nDana Lee             dana@example.com          111-222-3333    TechCorp   IT\\n==================================================\\n'"
            ],
            "application/vnd.google.colaboratory.intrinsic+json": {
              "type": "string"
            }
          },
          "metadata": {},
          "execution_count": 24
        }
      ]
    },
    {
      "cell_type": "code",
      "source": [],
      "metadata": {
        "id": "lel43NlplUlb"
      },
      "execution_count": null,
      "outputs": []
    },
    {
      "cell_type": "markdown",
      "source": [
        "Two clear issues with that structure:\n",
        "\n",
        "Key/value pairs are stored inside a list (\"v\": [\"phone\", ..., \"email\", ...]) → this forces you to rely on list indexing or stepping through pairs instead of just looking up \"phone\" or \"email\" directly. It’s not intuitive or efficient.\n",
        "\n",
        "Field names aren’t consistent or descriptive → \"n\" and \"v\" are cryptic. Someone reading the data has to decode what \"n\" means (name) and what \"v\" means (values)."
      ],
      "metadata": {
        "id": "BTMVxjj9lVfu"
      }
    },
    {
      "cell_type": "code",
      "source": [
        "book = {\n",
        "      \"people\": [\n",
        "              {\n",
        "                          \"name\": \"Alice\",\n",
        "                                      \"phone\": \"0400 123 456\",\n",
        "                                                  \"email\": \"alice@example.com\"\n",
        "                                                          },\n",
        "                                                                  {\n",
        "                                                                              \"name\": \"Bob\",\n",
        "                                                                                          \"phone\": \"0411 000 999\",\n",
        "                                                                                                      \"email\": \"bob@example.com\"\n",
        "                                                                                                              }\n",
        "                                                                                                                  ]\n",
        "                                                                                                                  }"
      ],
      "metadata": {
        "id": "rk1dJbvelX56"
      },
      "execution_count": null,
      "outputs": []
    },
    {
      "cell_type": "code",
      "source": [
        "book = {\n",
        "      \"people\": [\n",
        "              {\n",
        "                          \"name\": \"Alice\",\n",
        "                                      \"phone\": \"0400 123 456\",\n",
        "                                                  \"email\": \"alice@example.com\"\n",
        "                                                          },\n",
        "                                                                  {\n",
        "                                                                              \"name\": \"Bob\",\n",
        "                                                                                          \"phone\": \"0411 000 999\",\n",
        "                                                                                                      \"email\": \"bob@example.com\"\n",
        "                                                                                                              }\n",
        "                                                                                                                  ]\n",
        "                                                                                                                  }"
      ],
      "metadata": {
        "id": "muH3PcLylobX"
      },
      "execution_count": null,
      "outputs": []
    },
    {
      "cell_type": "code",
      "source": [
        "book = {\n",
        "      \"people\": [\n",
        "              {\n",
        "                          \"name\": \"Alice\",\n",
        "                                      \"phone\": \"0400 123 456\",\n",
        "                                                  \"email\": \"alice@example.com\"\n",
        "                                                          },\n",
        "                                                                  {\n",
        "                                                                              \"name\": \"Bob\",\n",
        "                                                                                          \"phone\": \"0411 000 999\",\n",
        "                                                                                                      \"email\": \"bob@example.com\"\n",
        "                                                                                                              }\n",
        "                                                                                                                  ]\n",
        "                                                                                                                  }"
      ],
      "metadata": {
        "id": "9WL4KnoQlzRy"
      },
      "execution_count": null,
      "outputs": []
    },
    {
      "cell_type": "code",
      "source": [
        "critique_notes = \"\"\"\n",
        "1) Values are packed into an alternating list (\"v\": [\"phone\", \"...\", \"email\", \"...\"]) instead of a dict.\n",
        "   - Order-dependent, fragile, and requires linear scans or pair-stepping.\n",
        "   - You can’t do direct lookups like v[\"phone\"]; you must parse the list.\n",
        "\n",
        "2) Opaque/ambiguous structure and poor lookup ergonomics.\n",
        "   - Cryptic keys (\"n\", \"v\") hurt readability.\n",
        "   - People are inside a list, so finding someone by name requires scanning the list.\n",
        "   - Duplicates are hard to manage; there’s no stable key/index.\n",
        "\n",
        "Redesign idea (two simple options):\n",
        "\n",
        "A) Dictionary-of-dictionaries (fast lookups by name):\n",
        "book = {\n",
        "    \"people\": {\n",
        "        \"Alice\": {\"phone\": \"0400 123 456\", \"email\": \"alice@example.com\"},\n",
        "        \"Bob\":   {\"phone\": \"0411 000 999\", \"email\": \"bob@example.com\"}\n",
        "    }\n",
        "}\n",
        "\n",
        "B) List of well-named dicts (stable shape, readable keys):\n",
        "book = {\n",
        "    \"people\": [\n",
        "        {\"name\": \"Alice\", \"phone\": \"0400 123 456\", \"email\": \"alice@example.com\"},\n",
        "        {\"name\": \"Bob\",   \"phone\": \"0411 000 999\", \"email\": \"bob@example.com\"}\n",
        "    ]\n",
        "}\n",
        "\"\"\"\n",
        "critique_notes"
      ],
      "metadata": {
        "colab": {
          "base_uri": "https://localhost:8080/",
          "height": 105
        },
        "id": "vqs-7yHqmY3c",
        "outputId": "eecb80d7-256d-4676-eefb-919ea98ca18b"
      },
      "execution_count": null,
      "outputs": [
        {
          "output_type": "execute_result",
          "data": {
            "text/plain": [
              "'\\n1) Values are packed into an alternating list (\"v\": [\"phone\", \"...\", \"email\", \"...\"]) instead of a dict.\\n   - Order-dependent, fragile, and requires linear scans or pair-stepping.\\n   - You can’t do direct lookups like v[\"phone\"]; you must parse the list.\\n\\n2) Opaque/ambiguous structure and poor lookup ergonomics.\\n   - Cryptic keys (\"n\", \"v\") hurt readability.\\n   - People are inside a list, so finding someone by name requires scanning the list.\\n   - Duplicates are hard to manage; there’s no stable key/index.\\n\\nRedesign idea (two simple options):\\n\\nA) Dictionary-of-dictionaries (fast lookups by name):\\nbook = {\\n    \"people\": {\\n        \"Alice\": {\"phone\": \"0400 123 456\", \"email\": \"alice@example.com\"},\\n        \"Bob\":   {\"phone\": \"0411 000 999\", \"email\": \"bob@example.com\"}\\n    }\\n}\\n\\nB) List of well-named dicts (stable shape, readable keys):\\nbook = {\\n    \"people\": [\\n        {\"name\": \"Alice\", \"phone\": \"0400 123 456\", \"email\": \"alice@example.com\"},\\n        {\"name\": \"Bob\",   \"phone\": \"0411 000 999\", \"email\": \"bob@example.com\"}\\n    ]\\n}\\n'"
            ],
            "application/vnd.google.colaboratory.intrinsic+json": {
              "type": "string"
            }
          },
          "metadata": {},
          "execution_count": 39
        }
      ]
    }
  ]
}